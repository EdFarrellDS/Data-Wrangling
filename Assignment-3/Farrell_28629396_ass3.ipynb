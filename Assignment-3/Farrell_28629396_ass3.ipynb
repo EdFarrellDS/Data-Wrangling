{
 "cells": [
  {
   "cell_type": "markdown",
   "metadata": {},
   "source": [
    "# FIT5196 Assessment 3\n",
    "#### Student Name: Ed Farrell\n",
    "#### Student ID: 28629396\n",
    "\n",
    "Date: 27/09/2017\n",
    "\n",
    "Version: 1.0\n",
    "\n",
    "Environment: Python 2.7.13 and Jupyter notebook\n",
    "\n",
    "Libraries used: please include the main libraries you used in your assignment here, e.g.,:\n",
    "* re (for regular expression, included in Anaconda Python 2.7)\n",
    "* os (for directory management and creation)\n",
    "* collections (for Counter function, and OrderdDict for ordered dictionaries)\n",
    "* copy (for creating deep copies of variables)\n",
    "* pandas (funnily enough, we need to import Pandas to use Panda dataframes)\n",
    "* numpy (additional functionality support for Pandas/MatPlotLib)\n",
    "* matplotlib (graphing support for Pandas via the pyplot package)\n",
    "* IPython.display (for better print visualisations of dataframes)\n",
    "\n",
    "\n",
    "## 1. Introduction\n",
    "\n",
    "This assessment aims to wrangle a large set of property sales records stored in an unknown format, while also dealing with unknown & unforseen data quality issues. This assessment can thus be split into two distinct major tasks, namely\n",
    "<br> i. Integrate two datasets, namely data_s1_ass4.csv & data_s2_ass4.xml, generating a unified table from these two datasets, and\n",
    "<br> ii. Data normalization of the combined datasets\n",
    "\n",
    "#### Initial exploration\n",
    "\n",
    "An initial exploration was performed on both dataframe files manually, using Excel for the .csv file and Notepad++ for the xml file. This shows that the XML file is an individual XML file rather than a concatenation of files (as in Assignment 1), and the .csv file does not appear to contain any particularly concerning entries. The visual inspection of the .csv file suggests that this is an extract of the King County House Sales dataset as used in Assignment 2."
   ]
  },
  {
   "cell_type": "markdown",
   "metadata": {},
   "source": [
    "## Table of contents <a name=\"contents\"></a>\n",
    "\n",
    "1. [Import statements and function declarations](#import statements)\n",
    "2. [Reading in the CSV and XML files](#file imports)\n",
    "3. [Cleaning the datasets](#cleaning)\n",
    "4. [Joining the datasets](#joining)\n",
    "4. [Normalisation](#normalisation)\n",
    "\n"
   ]
  },
  {
   "cell_type": "code",
   "execution_count": 1,
   "metadata": {
    "collapsed": true
   },
   "outputs": [],
   "source": [
    "# We create variables holding the two file names, so that they can be called more easily throughout the assessment.\n",
    "csv_fname = \"data_s1_ass3.csv\"\n",
    "xml_fname = \"data_s2_ass3.xml\""
   ]
  },
  {
   "cell_type": "markdown",
   "metadata": {},
   "source": [
    "## 1. Import statements and function declarations <a name=\"import statements\"></a>\n",
    "[Return to table of contents](#contents)\n",
    "\n",
    "This section concerns module/library imports, and also acts as a centralised repository of program-wide functions.\n",
    "\n",
    "### Function declarations"
   ]
  },
  {
   "cell_type": "code",
   "execution_count": 2,
   "metadata": {
    "collapsed": true
   },
   "outputs": [],
   "source": [
    "# General functionality\n",
    "import re\n",
    "import os\n",
    "from collections import Counter\n",
    "from collections import OrderedDict\n",
    "import copy\n",
    "from decimal import *\n",
    "\n",
    "# Parsing\n",
    "from bs4 import BeautifulSoup\n",
    "\n",
    "# Dataframe imports \n",
    "import pandas as pd\n",
    "import numpy as np\n",
    "import matplotlib\n",
    "from IPython.display import display\n",
    "\n",
    "# Normalisation\n",
    "from sklearn import preprocessing\n",
    "from sklearn.preprocessing import FunctionTransformer\n",
    "\n",
    "# Plotting\n",
    "import matplotlib.pyplot as plt\n",
    "import seaborn as sns\n",
    "\n",
    "# Notebook-wide formatting & modifications\n",
    "getcontext().prec = 4 # Sets the global level of precision for decimal\n",
    "\n",
    "%matplotlib inline\n",
    "matplotlib.style.use('ggplot')\n",
    "plt.rcParams['figure.figsize']=(10,10)\n",
    "\n",
    "# Pandas display setting modifications - sets the level of precision to 6, and also forces all floats to display to 2\n",
    "# decimal places, rather than using scientific notation. Forces max column width to -1 to avoid truncated outputs.\n",
    "pd.set_option('precision',5)\n",
    "pd.options.display.float_format = '{:.2f}'.format\n",
    "pd.set_option('display.max_colwidth', -1)\n",
    "\n",
    "# Error handling and hides warning messages\n",
    "pd.options.mode.chained_assignment = None\n",
    "import warnings\n",
    "warnings.filterwarnings('ignore')"
   ]
  },
  {
   "cell_type": "markdown",
   "metadata": {},
   "source": [
    "### Function declarations"
   ]
  },
  {
   "cell_type": "code",
   "execution_count": 3,
   "metadata": {
    "collapsed": true
   },
   "outputs": [],
   "source": [
    "# Use beautifulSoup to extract text for a particular column from an xml file. Takes the file location name and the target column.\n",
    "# as arguments.\n",
    "def xmlToPandas(xml_file, attr):\n",
    "    with open(xml_file) as xml:\n",
    "        raw_data = BeautifulSoup(xml, \"xml\")\n",
    "    attr_tags = raw_data.findAll(attr)\n",
    "    column = [data.get_text() for data in attr_tags]\n",
    "    return column\n",
    "\n",
    "# Handle price conversions from 'm'/'k' notation to numeric notation; if no notation is detected, pass to the next element\n",
    "# to be converted.\n",
    "def convPrice(value):\n",
    "    if 'm' in value:\n",
    "        return int(float(value[:-1])*1000000)\n",
    "    elif 'k' in value:\n",
    "        return int(float(value[:-1])*1000)\n",
    "    else:\n",
    "        pass\n",
    "\n",
    "# Converts poorly-formatted date information to consistent YYYY-MM-DD format\n",
    "def convDate(date):\n",
    "    if date[-7:] == \"T000000\":\n",
    "        return pd.to_datetime(str(date[:-7]), format=\"%Y%m%d\")\n",
    "    else:\n",
    "        # Prints the date to highlight what issue has occured, and returns to the original value\n",
    "        print str(date)\n",
    "        return date\n",
    "    \n",
    "# Converts area figures (square meters to square feet); used on df2 (i.e. the XML file)\n",
    "def convArea(area):\n",
    "    try:\n",
    "        return int(float(area)*10.7639)\n",
    "    except:\n",
    "        return np.nan\n",
    "\n",
    "# Checks for null / nan values in a given dataframe, returning the name of any column that has these values as well as the count.\n",
    "def nullCount(dataframe):\n",
    "    # Assign a name to both dataframes\n",
    "    df.name = 'df'\n",
    "    df2.name = 'df2'\n",
    "    flag = False\n",
    "    print \"Dataframe:\", dataframe.name\n",
    "    for column, count in dataframe.isnull().sum().iteritems():\n",
    "        if count > 0:\n",
    "            flag = True\n",
    "            print column, \"has\", count, \"null values present.\"\n",
    "    if flag == False:\n",
    "        print \"No null values detected in the dataframe.\"\n",
    "    print \"\"\n",
    "    \n",
    "# Formats street values to ensure consistency between the two dataframes, using the shortened forms from df.\n",
    "def convStreet(street):\n",
    "    swap_dict1 = {\"Northeast\":\"NE\", \"Northwest\":\"NW\", \"Southeast\":\"SE\",\"Southwest\":\"SW\"}\n",
    "    swap_dict2 = {\"North\":\"N\", \"South\":\"S\", \"East\":\"E\",\"West\":\"W\"}\n",
    "    swap_dict3 = {\"Road\":\"Rd\", \"Street\": \"St\", \"Place\":\"Pl\", \"Avenue\":\"Ave\", \"Lane\":\"Ln\",\n",
    "                 \"Terrace\":\"Ter\", \"Drive\":\"Dr\", \"Boulevard\":\"Blvd\", \"Court\":\"Ct\"}\n",
    "    street_dicts = [swap_dict1, swap_dict2, swap_dict3]\n",
    "    \n",
    "    for swap_dict in street_dicts:\n",
    "        for key in swap_dict:\n",
    "            street = street.replace(key, swap_dict[key])\n",
    "    return street\n",
    "\n",
    "# Creates \n",
    "def strataMean(dataframe, group, key, strata):\n",
    "    store = []\n",
    "    data = dataframe.sort_values(by=group, ascending=True)\n",
    "    data.dropna(axis=0, subset=[key], how='any', inplace = True) # Remove null values for the key value\n",
    "    for elem in np.array_split(data, strata):\n",
    "        mean = elem[key].mean()\n",
    "        maxim = elem[group].max()\n",
    "        minim = elem[group].min()\n",
    "        store.append({'mean':mean,'maximum':maxim,'minimum':minim})\n",
    "    return store"
   ]
  },
  {
   "cell_type": "markdown",
   "metadata": {
    "collapsed": true
   },
   "source": [
    "## 2. Reading in the CSV and XML files <a name=\"file imports\"></a>\n",
    "[Return to table of contents](#contents)\n",
    "\n",
    "This section covers the initial intake of data from the two files, and their transferral to two dataframes - 'df' (for the CSV file) and 'df2' (for the XML file)."
   ]
  },
  {
   "cell_type": "code",
   "execution_count": 4,
   "metadata": {
    "collapsed": true
   },
   "outputs": [],
   "source": [
    "# Read in the .csv file, and generate a list of the attribute names.\n",
    "df = pd.read_csv(csv_fname)\n",
    "csv_names = df.columns.tolist()"
   ]
  },
  {
   "cell_type": "code",
   "execution_count": 5,
   "metadata": {
    "collapsed": true
   },
   "outputs": [],
   "source": [
    "# Extract the first <record> from the XML file, then uses regEx to establish the attribute names present in the file.\n",
    "xml_names = []\n",
    "with open(\"data_s2_ass3.xml\") as xml:\n",
    "    string = ''\n",
    "    single_property = []\n",
    "    for line in xml:\n",
    "        if not line.startswith(\"<record>\"):\n",
    "            single_property.append(line)\n",
    "        else:\n",
    "            break\n",
    "    for i in single_property:\n",
    "        string += i\n",
    "    \n",
    "    # Strip extraneous XML formatting from the column names\n",
    "    xml_names = [re.sub(' unit = \\\"sqm\\\"|[<>/]', '', i) for i in re.findall(\"(<[a-zA-Z0-9 \\=\\\"]+[\\/>]{1,2})\", string) if \n",
    "                 i not in ['<records>', '<record>']]"
   ]
  },
  {
   "cell_type": "code",
   "execution_count": 6,
   "metadata": {
    "collapsed": true
   },
   "outputs": [],
   "source": [
    "# Using date as an initial column value, we initialise a dataframe and fill it with the data stored in the xml file.\n",
    "df2 = pd.DataFrame(xmlToPandas(xml_fname, 'date'), columns=['date'])\n",
    "for column in xml_names:\n",
    "    df2[column] = xmlToPandas(xml_fname, column)"
   ]
  },
  {
   "cell_type": "code",
   "execution_count": 7,
   "metadata": {},
   "outputs": [
    {
     "data": {
      "text/html": [
       "<div>\n",
       "<style>\n",
       "    .dataframe thead tr:only-child th {\n",
       "        text-align: right;\n",
       "    }\n",
       "\n",
       "    .dataframe thead th {\n",
       "        text-align: left;\n",
       "    }\n",
       "\n",
       "    .dataframe tbody tr th {\n",
       "        vertical-align: top;\n",
       "    }\n",
       "</style>\n",
       "<table border=\"1\" class=\"dataframe\">\n",
       "  <thead>\n",
       "    <tr style=\"text-align: right;\">\n",
       "      <th></th>\n",
       "      <th>date</th>\n",
       "      <th>price</th>\n",
       "      <th>bedrooms</th>\n",
       "      <th>bathrooms</th>\n",
       "      <th>sqft_living</th>\n",
       "      <th>sqft_lot</th>\n",
       "      <th>floors</th>\n",
       "      <th>waterfront</th>\n",
       "      <th>view</th>\n",
       "      <th>condition</th>\n",
       "      <th>sqft_above</th>\n",
       "      <th>sqft_basement</th>\n",
       "      <th>yr_built</th>\n",
       "      <th>yr_renovated</th>\n",
       "      <th>street</th>\n",
       "      <th>city</th>\n",
       "      <th>statezip</th>\n",
       "      <th>country</th>\n",
       "    </tr>\n",
       "  </thead>\n",
       "  <tbody>\n",
       "    <tr>\n",
       "      <th>0</th>\n",
       "      <td>20140502T000000</td>\n",
       "      <td>313k</td>\n",
       "      <td>3</td>\n",
       "      <td>1.50</td>\n",
       "      <td>1340</td>\n",
       "      <td>7912</td>\n",
       "      <td>1.50</td>\n",
       "      <td>0</td>\n",
       "      <td>0</td>\n",
       "      <td>3</td>\n",
       "      <td>1340</td>\n",
       "      <td>0</td>\n",
       "      <td>1955</td>\n",
       "      <td>nan</td>\n",
       "      <td>18810 Densmore Ave N</td>\n",
       "      <td>Shoreline</td>\n",
       "      <td>WA 98133</td>\n",
       "      <td>USA</td>\n",
       "    </tr>\n",
       "  </tbody>\n",
       "</table>\n",
       "</div>"
      ],
      "text/plain": [
       "              date price  bedrooms  bathrooms  sqft_living  sqft_lot  floors  \\\n",
       "0  20140502T000000  313k  3        1.50        1340         7912     1.50      \n",
       "\n",
       "   waterfront  view  condition  sqft_above  sqft_basement  yr_built  \\\n",
       "0  0           0     3          1340        0              1955       \n",
       "\n",
       "   yr_renovated                street       city  statezip country  \n",
       "0 nan            18810 Densmore Ave N  Shoreline  WA 98133  USA     "
      ]
     },
     "execution_count": 7,
     "metadata": {},
     "output_type": "execute_result"
    }
   ],
   "source": [
    "df.head(1)"
   ]
  },
  {
   "cell_type": "code",
   "execution_count": 8,
   "metadata": {},
   "outputs": [
    {
     "data": {
      "text/html": [
       "<div>\n",
       "<style>\n",
       "    .dataframe thead tr:only-child th {\n",
       "        text-align: right;\n",
       "    }\n",
       "\n",
       "    .dataframe thead th {\n",
       "        text-align: left;\n",
       "    }\n",
       "\n",
       "    .dataframe tbody tr th {\n",
       "        vertical-align: top;\n",
       "    }\n",
       "</style>\n",
       "<table border=\"1\" class=\"dataframe\">\n",
       "  <thead>\n",
       "    <tr style=\"text-align: right;\">\n",
       "      <th></th>\n",
       "      <th>date</th>\n",
       "      <th>address</th>\n",
       "      <th>price</th>\n",
       "      <th>soldDate</th>\n",
       "      <th>bedrooms</th>\n",
       "      <th>bathrooms</th>\n",
       "      <th>livingArea</th>\n",
       "      <th>lotArea</th>\n",
       "      <th>floors</th>\n",
       "      <th>waterfront</th>\n",
       "      <th>view</th>\n",
       "      <th>upperArea</th>\n",
       "      <th>basementArea</th>\n",
       "      <th>buildYear</th>\n",
       "      <th>renovateYear</th>\n",
       "    </tr>\n",
       "  </thead>\n",
       "  <tbody>\n",
       "    <tr>\n",
       "      <th>0</th>\n",
       "      <td>2014-07-19</td>\n",
       "      <td>10515, 115th Place Northeast, Juanita, Kirkland, King County, Washington, 98033, United States of America</td>\n",
       "      <td>630000</td>\n",
       "      <td>2014-07-09</td>\n",
       "      <td>3</td>\n",
       "      <td>1.75</td>\n",
       "      <td>158.8641984</td>\n",
       "      <td>814.48095168</td>\n",
       "      <td>1.0</td>\n",
       "      <td></td>\n",
       "      <td></td>\n",
       "      <td>158.8641984</td>\n",
       "      <td></td>\n",
       "      <td>1986</td>\n",
       "      <td>0</td>\n",
       "    </tr>\n",
       "  </tbody>\n",
       "</table>\n",
       "</div>"
      ],
      "text/plain": [
       "         date  \\\n",
       "0  2014-07-19   \n",
       "\n",
       "                                                                                                     address  \\\n",
       "0  10515, 115th Place Northeast, Juanita, Kirkland, King County, Washington, 98033, United States of America   \n",
       "\n",
       "    price    soldDate bedrooms bathrooms   livingArea       lotArea floors  \\\n",
       "0  630000  2014-07-09  3        1.75      158.8641984  814.48095168  1.0     \n",
       "\n",
       "  waterfront view    upperArea basementArea buildYear renovateYear  \n",
       "0                  158.8641984               1986      0            "
      ]
     },
     "execution_count": 8,
     "metadata": {},
     "output_type": "execute_result"
    }
   ],
   "source": [
    "df2.head(1)"
   ]
  },
  {
   "cell_type": "markdown",
   "metadata": {},
   "source": [
    "We can see that there are a number of differences in the data in each dataframe. In the next section, we will begin to deal with these differences."
   ]
  },
  {
   "cell_type": "markdown",
   "metadata": {},
   "source": [
    "\n",
    "## 3. Cleaning dataframes <a name=\"cleaning\"></a>\n",
    "[Return to table of contents](#contents)\n",
    "\n",
    "This section covers cleaning the datasets prior to merging them; this will involve manipulating non-atomic columns such as df2's \"address\" column, as well as handling missing values and incorrect data entries.\n",
    "\n",
    "* Separating columns such as address\n",
    "* Handling missing values\n",
    "* Handling differences in formatting\n",
    "* Consistent order of column names\n",
    "* Rename values to ensure consistency (i.e \"Street\" > \"St\")\n",
    "* Check for missing values\n",
    "* Check for data irregularities, such as renovation date before build date\n",
    "* Check for duplicates\n",
    "* Check for spelling mistakes (?)\n",
    "* Handle NaN values"
   ]
  },
  {
   "cell_type": "markdown",
   "metadata": {},
   "source": [
    "### 3a. Handling 'address' attribute\n",
    "\n",
    "We can see that the 'address' attribute in df2 contains a concatenation of address details; more specifically, the entries contain \n",
    "* Street number // Street name // City // County // State // ZIP code // Country\n",
    "A visual inspection of the data also reveals that some entries also contain details such as neighbourhood. As such, we will need to determine how to split these values, and which ones are necessary. Looking at the CSV file, we see the format\n",
    "* street / city / statezip / country\n",
    "Therefore we will aim to extract all separate values and then re-concatenate them to match the CSV format. As such, we will end up dropping values such as neighbourhood if we cannot determine that these values hold important information."
   ]
  },
  {
   "cell_type": "code",
   "execution_count": 9,
   "metadata": {
    "collapsed": true
   },
   "outputs": [],
   "source": [
    "# IMPORTANT INFORMATION: Seattle has no defined neighbourhood boundaries; as such, multiple neighbourhood names may occur. See\n",
    "# https://en.wikipedia.org/wiki/List_of_neighborhoods_in_Seattle#Informal_districts for more information\n",
    "street_num = []\n",
    "street_name = []\n",
    "building = []\n",
    "neighbourhood = []\n",
    "alt_neighbourhood = []\n",
    "city = []\n",
    "county = []\n",
    "state = []\n",
    "zipcode = []\n",
    "country = []\n",
    "\n",
    "street_types = ['Road', 'Avenue', 'Street', 'Way', 'Place', 'Lane', 'Drive', 'Court', 'Terrace', 'Boulevard', 'PL', 'Trail', 'Highway']\n",
    "\n",
    "for elem in df2['address']:\n",
    "    data = re.split(', ', elem)\n",
    "    # Remove trailing +4 data if the ZIP code is in the '5 Plus 4' format, or leading digits that are incorrectly entered (e.g.\n",
    "    #   98027; 98006, 158th Place Southeast, Eastgate, Bellevue, King County, Washington, 98027; 98006, United States of America\n",
    "    # , where the leading digits are actually the ZIP code for Issaquah and not Bellevue)\n",
    "    data[-2] = re.sub('-[0-9]+|[0-9]+; ', '', data[-2])\n",
    "    \n",
    "    # Checks for missing ZIP codes; \n",
    "    if not data[-2].isnumeric():\n",
    "        data.insert(-1, np.nan)\n",
    "        \n",
    "    # If the 'country' attribute is 'United States of America', use 'USA' instead (as per df's formatting)\n",
    "    if data[-1] == 'United States of America':\n",
    "        data[-1] = 'USA'\n",
    "    \n",
    "    # If the 'state' attribute is 'Washington', use 'WA' instead (as per df's formatting)\n",
    "    if data[-3] == 'Washington':\n",
    "        data[-3] = 'WA'\n",
    "    \n",
    "    # Handle consistently-formatted data (i.e. last 5 entries of all addresses will always be country, zipcode, state, county,\n",
    "    # and city.\n",
    "    for store in [country, zipcode, state, county, city]:\n",
    "        store.append(data.pop())\n",
    "    \n",
    "    # Handle special buildings, i.e. \"Fire Station 34\"\n",
    "    if any(building in data[0] for building in ['Station', 'Fitness', 'Church']):\n",
    "        building.append(data.pop(0))\n",
    "    else:\n",
    "        building.append(np.nan)\n",
    "    \n",
    "    # Handle dirty data \n",
    "    if '98027; 98006' in data[0]:\n",
    "        data[0] = ''\n",
    "        street_num.append(data.pop(0))\n",
    "    \n",
    "    # Extract street number (if present). Includes conditional statement to handle compass direction details (i.e. 1425 W,\n",
    "    # 859 NE). First the trailing 2, and then 3 characters, are checked (as str.isnumeric() treats spaces as non-numeric).\n",
    "    elif len(data[0]) < 3:\n",
    "        street_num.append(data.pop(0))\n",
    "    elif data[0][0:-2].isnumeric():\n",
    "        street_num.append(data.pop(0))\n",
    "    elif data[0][0:-3].isnumeric():\n",
    "        street_num.append(data.pop(0))\n",
    "    else:\n",
    "        street_num.append('')\n",
    "    # Handle roman numeral issue where one property has a street number of 'I'. It is assumed that this is meant to be a 1.\n",
    "    street_num = ['1' if num == 'I' else num for num in street_num]\n",
    "   \n",
    "    # Checks if the first or second elements of data contain street information.\n",
    "    if any(street in data[0] for street in street_types):\n",
    "        street_name.append(data.pop(0))\n",
    "    elif len(data) > 1:\n",
    "        if any(street in data[1] for street in street_types):\n",
    "            street_name.append(data.pop(1))\n",
    "    else:\n",
    "        street_name.append(\"Not available\")\n",
    "    \n",
    "    # At this point we are left with either one or two entries; these are the neighbourhoods that the properties reside in. The\n",
    "    # dual-entry properties either refer to gated communities within a neighbourhood, or a neighbourhood in a city district.\n",
    "    # We will need to establish the most applicable single choice.\n",
    "    if len(data) == 1:\n",
    "        neighbourhood.append(data.pop())\n",
    "        alt_neighbourhood.append(\"Not available\")\n",
    "    elif len(data) == 2:\n",
    "        neighbourhood.append(data.pop())\n",
    "        alt_neighbourhood.append(data.pop())\n",
    "    else:\n",
    "        neighbourhood.append(\"Not available\")\n",
    "        alt_neighbourhood.append(\"Not available\")\n",
    "\n",
    "# Generate combined lists holding the street address (number + name) and State-ZIP combination (WA + 98***)\n",
    "street = [\"{} {}\".format(a_, b_).lstrip() for a_, b_ in zip(street_num, street_name)]\n",
    "# ADD IF STATEMENT FOR ALL STATE ELEMENTS AS WASHINGTON\n",
    "statezip = ['WA '+str(i) for i in zipcode]"
   ]
  },
  {
   "cell_type": "code",
   "execution_count": 10,
   "metadata": {},
   "outputs": [
    {
     "name": "stdout",
     "output_type": "stream",
     "text": [
      "Fire Station 34\n",
      "Victory Outreach Church\n",
      "24 Hour Fitness - Bothell\n"
     ]
    }
   ],
   "source": [
    "# Initial visual inspection showed that there are some interesting properties in the datasets. Namely, there are three\n",
    "# properties in df_2 that are recorded as non-residential. These properties are printed below. It has been decided that these\n",
    "# properties will not be dropped as it can be assumed that they may carry meaning that we are not aware of.\n",
    "for elem in [i for i in building if i is not np.nan]:\n",
    "    print elem\n",
    "        "
   ]
  },
  {
   "cell_type": "code",
   "execution_count": 11,
   "metadata": {},
   "outputs": [
    {
     "data": {
      "text/html": [
       "<div>\n",
       "<style>\n",
       "    .dataframe thead tr:only-child th {\n",
       "        text-align: right;\n",
       "    }\n",
       "\n",
       "    .dataframe thead th {\n",
       "        text-align: left;\n",
       "    }\n",
       "\n",
       "    .dataframe tbody tr th {\n",
       "        vertical-align: top;\n",
       "    }\n",
       "</style>\n",
       "<table border=\"1\" class=\"dataframe\">\n",
       "  <thead>\n",
       "    <tr style=\"text-align: right;\">\n",
       "      <th></th>\n",
       "      <th>date</th>\n",
       "      <th>soldDate</th>\n",
       "    </tr>\n",
       "  </thead>\n",
       "  <tbody>\n",
       "    <tr>\n",
       "      <th>0</th>\n",
       "      <td>2014-07-19</td>\n",
       "      <td>2014-07-09</td>\n",
       "    </tr>\n",
       "    <tr>\n",
       "      <th>1</th>\n",
       "      <td>2014-07-10</td>\n",
       "      <td>2014-07-09</td>\n",
       "    </tr>\n",
       "    <tr>\n",
       "      <th>2</th>\n",
       "      <td>2014-07-16</td>\n",
       "      <td>2014-07-09</td>\n",
       "    </tr>\n",
       "  </tbody>\n",
       "</table>\n",
       "</div>"
      ],
      "text/plain": [
       "         date    soldDate\n",
       "0  2014-07-19  2014-07-09\n",
       "1  2014-07-10  2014-07-09\n",
       "2  2014-07-16  2014-07-09"
      ]
     },
     "execution_count": 11,
     "metadata": {},
     "output_type": "execute_result"
    }
   ],
   "source": [
    "# We can see that soldDate consistently occurs prior to date; we can therefore assume that date refers to the date in which the\n",
    "# property record was entered into the database. As the date of sale is seen as more informative than the date in which the sale\n",
    "# records was entered, we can therefore assume that 'date' in df refers to the sale date. We must therefore remove date from df2,\n",
    "# and rename soldDate to date to cater to this interpretation.\n",
    "df2[['date', 'soldDate']].head(3)"
   ]
  },
  {
   "cell_type": "code",
   "execution_count": 12,
   "metadata": {
    "collapsed": true
   },
   "outputs": [],
   "source": [
    "# Assign address details to df2; as we are using the formatting provided in the CSV file, only the street, city, statezip, and \n",
    "# country details are required. Once these are added, we drop the original 'address' column. Date is dropped, and soldDate will\n",
    "# be renamed in section 1.c.ii\n",
    "df2['street'] = street\n",
    "df2['city'] = city\n",
    "df2['statezip'] = statezip\n",
    "df2['country'] = country\n",
    "df2 = df2.drop(['address', 'date'], axis=1)"
   ]
  },
  {
   "cell_type": "markdown",
   "metadata": {},
   "source": [
    "### 3.b Handling missing / incorrect values\n",
    "\n",
    "In this section, we will fix any errors that have arisen during the process. Of note will be the missing/empty values in df2's 'waterfront' and 'view' categories, incorrect statezip data for df2, and any NaN values in both datasets."
   ]
  },
  {
   "cell_type": "code",
   "execution_count": 13,
   "metadata": {
    "collapsed": true
   },
   "outputs": [],
   "source": [
    "# Incomplete information in df2's 'waterfront', 'basementArea', and 'view' columns is handled here; any empty element is replaced\n",
    "# with a 0; 'waterfront' also has its 'Yes' values changed to 1's, resulting in a boolean column.\n",
    "for column in ['waterfront', 'view', 'basementArea']:\n",
    "    df2.loc[df2[column] == '', column] = '0'\n",
    "df2.loc[df2['waterfront'] == 'Yes', 'waterfront'] = '1'"
   ]
  },
  {
   "cell_type": "code",
   "execution_count": 14,
   "metadata": {},
   "outputs": [
    {
     "data": {
      "text/plain": [
       "['price',\n",
       " 'soldDate',\n",
       " 'bedrooms',\n",
       " 'bathrooms',\n",
       " 'livingArea',\n",
       " 'lotArea',\n",
       " 'floors',\n",
       " 'waterfront',\n",
       " 'view',\n",
       " 'upperArea',\n",
       " 'basementArea',\n",
       " 'buildYear',\n",
       " 'renovateYear',\n",
       " 'street',\n",
       " 'city',\n",
       " 'statezip',\n",
       " 'country']"
      ]
     },
     "execution_count": 14,
     "metadata": {},
     "output_type": "execute_result"
    }
   ],
   "source": [
    "df2.columns.tolist()"
   ]
  },
  {
   "cell_type": "code",
   "execution_count": 15,
   "metadata": {},
   "outputs": [
    {
     "name": "stdout",
     "output_type": "stream",
     "text": [
      "Dataframe: df\n",
      "yr_renovated has 4376 null values present.\n",
      "\n",
      "Dataframe: df2\n",
      "No null values detected in the dataframe.\n",
      "\n",
      "['1111' 1994.0 1954.0 2011.0 2014.0 1998.0 1958.0 1992.0 2005.0 1986.0\n",
      " 2013.0 2004.0 2002.0 2001.0 1990.0 1956.0 1984.0 2003.0 2010.0 2000.0\n",
      " 1977.0 1996.0 2007.0 1970.0 1983.0 1981.0 1975.0 1971.0 1988.0 1999.0\n",
      " 2009.0 1995.0 1969.0 1997.0 1989.0 1982.0 2006.0 1985.0 1993.0 1953.0\n",
      " 1955.0 1979.0 1987.0 1960.0 1934.0 1945.0 2008.0 1980.0 2012.0 1972.0\n",
      " 1948.0 1978.0 1968.0 1991.0 1974.0]\n",
      "[u'0' u'2000' u'1991' u'2011' u'2007' u'1965' u'2004' u'1997' u'2014'\n",
      " u'1994' u'2002' u'1987' u'1996' u'1983' u'2006' u'1986' u'1978' u'1993'\n",
      " u'2009']\n"
     ]
    }
   ],
   "source": [
    "# We check for any null values in the dataframes. This returns no nulls for df2, and 4372 null values for df's yr_renovated\n",
    "# column. We are unable to determine whether this is missing data by accident (i.e. renovation status not entered) or whether the\n",
    "# property has never been renovated. As such, we choose to replace all missing renovation years with the string 1111. This\n",
    "# ensures that we have a clear marker for missing data, without also removing any null/nan values from the column.\n",
    "for i in [df, df2]:\n",
    "    nullCount(i)\n",
    "  \n",
    "df[\"yr_renovated\"].fillna('1111', inplace=True)\n",
    "\n",
    "# We can see that there are also '0' values in df2's renovateYear column, after we have displayed the unique values for both\n",
    "# dataframes' 'yr_renovated' (or equivalent) column; these will also need to be changed to 1111 to maintain formatting\n",
    "# consistency.\n",
    "for i in [df['yr_renovated'], df2['renovateYear']]:\n",
    "    print i.unique()\n",
    "\n",
    "df2[\"renovateYear\"].replace('0', '1111',inplace=True)"
   ]
  },
  {
   "cell_type": "code",
   "execution_count": null,
   "metadata": {
    "collapsed": true
   },
   "outputs": [],
   "source": []
  },
  {
   "cell_type": "code",
   "execution_count": 16,
   "metadata": {},
   "outputs": [
    {
     "name": "stdout",
     "output_type": "stream",
     "text": [
      "Dataframe: df\n",
      "No null values detected in the dataframe.\n",
      "\n",
      "Dataframe: df2\n",
      "No null values detected in the dataframe.\n",
      "\n"
     ]
    }
   ],
   "source": [
    "# Perform a check to ensure no null/nan values are present after the change.\n",
    "for i in [df, df2]:\n",
    "    nullCount(i)"
   ]
  },
  {
   "cell_type": "code",
   "execution_count": 17,
   "metadata": {},
   "outputs": [
    {
     "data": {
      "text/html": [
       "<div>\n",
       "<style>\n",
       "    .dataframe thead tr:only-child th {\n",
       "        text-align: right;\n",
       "    }\n",
       "\n",
       "    .dataframe thead th {\n",
       "        text-align: left;\n",
       "    }\n",
       "\n",
       "    .dataframe tbody tr th {\n",
       "        vertical-align: top;\n",
       "    }\n",
       "</style>\n",
       "<table border=\"1\" class=\"dataframe\">\n",
       "  <thead>\n",
       "    <tr style=\"text-align: right;\">\n",
       "      <th></th>\n",
       "      <th>price</th>\n",
       "      <th>soldDate</th>\n",
       "      <th>bedrooms</th>\n",
       "      <th>bathrooms</th>\n",
       "      <th>livingArea</th>\n",
       "      <th>lotArea</th>\n",
       "      <th>floors</th>\n",
       "      <th>waterfront</th>\n",
       "      <th>view</th>\n",
       "      <th>upperArea</th>\n",
       "      <th>basementArea</th>\n",
       "      <th>buildYear</th>\n",
       "      <th>renovateYear</th>\n",
       "      <th>street</th>\n",
       "      <th>city</th>\n",
       "      <th>statezip</th>\n",
       "      <th>country</th>\n",
       "    </tr>\n",
       "  </thead>\n",
       "  <tbody>\n",
       "    <tr>\n",
       "      <th>89</th>\n",
       "      <td>314000</td>\n",
       "      <td>2014-07-11</td>\n",
       "      <td>3</td>\n",
       "      <td>1.75</td>\n",
       "      <td>168.1545024</td>\n",
       "      <td>3883.347072</td>\n",
       "      <td>1.0</td>\n",
       "      <td>0</td>\n",
       "      <td>0</td>\n",
       "      <td>112.4126784</td>\n",
       "      <td>55.741824</td>\n",
       "      <td>1980</td>\n",
       "      <td>1111</td>\n",
       "      <td>290th Avenue Southeast</td>\n",
       "      <td>Hobart</td>\n",
       "      <td>WA nan</td>\n",
       "      <td>USA</td>\n",
       "    </tr>\n",
       "    <tr>\n",
       "      <th>299</th>\n",
       "      <td>625000</td>\n",
       "      <td>2014-07-15</td>\n",
       "      <td>4</td>\n",
       "      <td>2.5</td>\n",
       "      <td>238.7608128</td>\n",
       "      <td>512.8247808</td>\n",
       "      <td>2.0</td>\n",
       "      <td>0</td>\n",
       "      <td>0</td>\n",
       "      <td>238.7608128</td>\n",
       "      <td>0</td>\n",
       "      <td>2000</td>\n",
       "      <td>1111</td>\n",
       "      <td>521 234th Place Northeast</td>\n",
       "      <td>Sammamish</td>\n",
       "      <td>WA 90874</td>\n",
       "      <td>USA</td>\n",
       "    </tr>\n",
       "  </tbody>\n",
       "</table>\n",
       "</div>"
      ],
      "text/plain": [
       "      price    soldDate bedrooms bathrooms   livingArea      lotArea floors  \\\n",
       "89   314000  2014-07-11  3        1.75      168.1545024  3883.347072  1.0     \n",
       "299  625000  2014-07-15  4        2.5       238.7608128  512.8247808  2.0     \n",
       "\n",
       "    waterfront view    upperArea basementArea buildYear renovateYear  \\\n",
       "89   0          0    112.4126784  55.741824    1980      1111          \n",
       "299  0          0    238.7608128  0            2000      1111          \n",
       "\n",
       "                        street       city  statezip country  \n",
       "89   290th Avenue Southeast     Hobart     WA nan    USA     \n",
       "299  521 234th Place Northeast  Sammamish  WA 90874  USA     "
      ]
     },
     "metadata": {},
     "output_type": "display_data"
    },
    {
     "data": {
      "text/html": [
       "<div>\n",
       "<style>\n",
       "    .dataframe thead tr:only-child th {\n",
       "        text-align: right;\n",
       "    }\n",
       "\n",
       "    .dataframe thead th {\n",
       "        text-align: left;\n",
       "    }\n",
       "\n",
       "    .dataframe tbody tr th {\n",
       "        vertical-align: top;\n",
       "    }\n",
       "</style>\n",
       "<table border=\"1\" class=\"dataframe\">\n",
       "  <thead>\n",
       "    <tr style=\"text-align: right;\">\n",
       "      <th></th>\n",
       "      <th>date</th>\n",
       "      <th>price</th>\n",
       "      <th>bedrooms</th>\n",
       "      <th>bathrooms</th>\n",
       "      <th>sqft_living</th>\n",
       "      <th>sqft_lot</th>\n",
       "      <th>floors</th>\n",
       "      <th>waterfront</th>\n",
       "      <th>view</th>\n",
       "      <th>condition</th>\n",
       "      <th>sqft_above</th>\n",
       "      <th>sqft_basement</th>\n",
       "      <th>yr_built</th>\n",
       "      <th>yr_renovated</th>\n",
       "      <th>street</th>\n",
       "      <th>city</th>\n",
       "      <th>statezip</th>\n",
       "      <th>country</th>\n",
       "    </tr>\n",
       "  </thead>\n",
       "  <tbody>\n",
       "  </tbody>\n",
       "</table>\n",
       "</div>"
      ],
      "text/plain": [
       "Empty DataFrame\n",
       "Columns: [date, price, bedrooms, bathrooms, sqft_living, sqft_lot, floors, waterfront, view, condition, sqft_above, sqft_basement, yr_built, yr_renovated, street, city, statezip, country]\n",
       "Index: []"
      ]
     },
     "metadata": {},
     "output_type": "display_data"
    }
   ],
   "source": [
    "# We run a quick check for any ZIP codes that do not contain 98 or WA, (the two starting letters and digits of all WA ZIP codes)\n",
    "display(df2[~df2['statezip'].str.contains((\"98\"), (\"WA\"))])\n",
    "display(df[~df['statezip'].str.contains((\"98\"), (\"WA\"))])"
   ]
  },
  {
   "cell_type": "code",
   "execution_count": 18,
   "metadata": {},
   "outputs": [
    {
     "data": {
      "text/html": [
       "<div>\n",
       "<style>\n",
       "    .dataframe thead tr:only-child th {\n",
       "        text-align: right;\n",
       "    }\n",
       "\n",
       "    .dataframe thead th {\n",
       "        text-align: left;\n",
       "    }\n",
       "\n",
       "    .dataframe tbody tr th {\n",
       "        vertical-align: top;\n",
       "    }\n",
       "</style>\n",
       "<table border=\"1\" class=\"dataframe\">\n",
       "  <thead>\n",
       "    <tr style=\"text-align: right;\">\n",
       "      <th></th>\n",
       "      <th>price</th>\n",
       "      <th>soldDate</th>\n",
       "      <th>bedrooms</th>\n",
       "      <th>bathrooms</th>\n",
       "      <th>livingArea</th>\n",
       "      <th>lotArea</th>\n",
       "      <th>floors</th>\n",
       "      <th>waterfront</th>\n",
       "      <th>view</th>\n",
       "      <th>upperArea</th>\n",
       "      <th>basementArea</th>\n",
       "      <th>buildYear</th>\n",
       "      <th>renovateYear</th>\n",
       "      <th>street</th>\n",
       "      <th>city</th>\n",
       "      <th>statezip</th>\n",
       "      <th>country</th>\n",
       "    </tr>\n",
       "  </thead>\n",
       "  <tbody>\n",
       "  </tbody>\n",
       "</table>\n",
       "</div>"
      ],
      "text/plain": [
       "Empty DataFrame\n",
       "Columns: [price, soldDate, bedrooms, bathrooms, livingArea, lotArea, floors, waterfront, view, upperArea, basementArea, buildYear, renovateYear, street, city, statezip, country]\n",
       "Index: []"
      ]
     },
     "metadata": {},
     "output_type": "display_data"
    }
   ],
   "source": [
    "# We can see only 2 entries in df2 have missing values (index 89 and 299). A quick manual search of the entries in the original\n",
    "# XML file shows 89 has no supplied ZIP code, and 299 is indeed an incorrect ZIP code but is located in Sammamish, which uses\n",
    "# the 98074 ZIP code (so clearly this is an entry error). A Google search for Hobart WA provides the zip code WA 98027, which we\n",
    "# will use for this property. Due to there only being two changes, a manual edit to the dataframe will be quickest.\n",
    "\n",
    "df2.set_value(89, 'statezip', 'WA 98027')\n",
    "df2.set_value(299, 'statezip', 'WA 98074')\n",
    "\n",
    "# We then check the dataframe. These indices don't appear again, so we know that the edits were successful.\n",
    "display(df2[~df2['statezip'].str.contains((\"98\"), (\"WA\"))])"
   ]
  },
  {
   "cell_type": "markdown",
   "metadata": {},
   "source": [
    "### 3.c Handling formatting differences\n",
    "\n",
    "We can see a number of formatting differences between the CSV and XML datasets; in this section, we will seek to handle discrepancies in formatting between the two datasets. More specifically, we can see that the date, price, and area (i.e. livingArea / sqft_living, lotArea / sqft_living) suffer from different formats, and we will have to handle these."
   ]
  },
  {
   "cell_type": "code",
   "execution_count": 19,
   "metadata": {},
   "outputs": [
    {
     "data": {
      "text/html": [
       "<div>\n",
       "<style>\n",
       "    .dataframe thead tr:only-child th {\n",
       "        text-align: right;\n",
       "    }\n",
       "\n",
       "    .dataframe thead th {\n",
       "        text-align: left;\n",
       "    }\n",
       "\n",
       "    .dataframe tbody tr th {\n",
       "        vertical-align: top;\n",
       "    }\n",
       "</style>\n",
       "<table border=\"1\" class=\"dataframe\">\n",
       "  <thead>\n",
       "    <tr style=\"text-align: right;\">\n",
       "      <th></th>\n",
       "      <th>date</th>\n",
       "      <th>price</th>\n",
       "      <th>bedrooms</th>\n",
       "      <th>bathrooms</th>\n",
       "      <th>sqft_living</th>\n",
       "      <th>sqft_lot</th>\n",
       "      <th>floors</th>\n",
       "      <th>waterfront</th>\n",
       "      <th>view</th>\n",
       "      <th>condition</th>\n",
       "      <th>sqft_above</th>\n",
       "      <th>sqft_basement</th>\n",
       "      <th>yr_built</th>\n",
       "      <th>yr_renovated</th>\n",
       "      <th>street</th>\n",
       "      <th>city</th>\n",
       "      <th>statezip</th>\n",
       "      <th>country</th>\n",
       "    </tr>\n",
       "  </thead>\n",
       "  <tbody>\n",
       "    <tr>\n",
       "      <th>0</th>\n",
       "      <td>2014-05-02</td>\n",
       "      <td>313k</td>\n",
       "      <td>3</td>\n",
       "      <td>1.50</td>\n",
       "      <td>1340</td>\n",
       "      <td>7912</td>\n",
       "      <td>1.50</td>\n",
       "      <td>0</td>\n",
       "      <td>0</td>\n",
       "      <td>3</td>\n",
       "      <td>1340</td>\n",
       "      <td>0</td>\n",
       "      <td>1955</td>\n",
       "      <td>1111</td>\n",
       "      <td>18810 Densmore Ave N</td>\n",
       "      <td>Shoreline</td>\n",
       "      <td>WA 98133</td>\n",
       "      <td>USA</td>\n",
       "    </tr>\n",
       "    <tr>\n",
       "      <th>1</th>\n",
       "      <td>2014-05-02</td>\n",
       "      <td>2.384m</td>\n",
       "      <td>5</td>\n",
       "      <td>2.50</td>\n",
       "      <td>3650</td>\n",
       "      <td>9050</td>\n",
       "      <td>2.00</td>\n",
       "      <td>0</td>\n",
       "      <td>4</td>\n",
       "      <td>5</td>\n",
       "      <td>3370</td>\n",
       "      <td>280</td>\n",
       "      <td>1921</td>\n",
       "      <td>1111</td>\n",
       "      <td>709 W Blaine St</td>\n",
       "      <td>Seattle</td>\n",
       "      <td>WA 98119</td>\n",
       "      <td>USA</td>\n",
       "    </tr>\n",
       "  </tbody>\n",
       "</table>\n",
       "</div>"
      ],
      "text/plain": [
       "        date   price  bedrooms  bathrooms  sqft_living  sqft_lot  floors  \\\n",
       "0 2014-05-02  313k    3        1.50        1340         7912     1.50      \n",
       "1 2014-05-02  2.384m  5        2.50        3650         9050     2.00      \n",
       "\n",
       "   waterfront  view  condition  sqft_above  sqft_basement  yr_built  \\\n",
       "0  0           0     3          1340        0              1955       \n",
       "1  0           4     5          3370        280            1921       \n",
       "\n",
       "  yr_renovated                street       city  statezip country  \n",
       "0  1111         18810 Densmore Ave N  Shoreline  WA 98133  USA     \n",
       "1  1111         709 W Blaine St       Seattle    WA 98119  USA     "
      ]
     },
     "execution_count": 19,
     "metadata": {},
     "output_type": "execute_result"
    }
   ],
   "source": [
    "# We first look to deal with the date format differences. The CSV file uses the format YYYYMMDDT000000, while the XML file uses\n",
    "# the format YYYY-MM-DD. As the second format is far cleaner and clearer, we opt to use this formatting for our final joined\n",
    "# dataset, using the convDate function constructed previously.\n",
    "df['date'] = df['date'].apply(convDate)\n",
    "df.head(2)"
   ]
  },
  {
   "cell_type": "code",
   "execution_count": 20,
   "metadata": {},
   "outputs": [
    {
     "data": {
      "text/html": [
       "<div>\n",
       "<style>\n",
       "    .dataframe thead tr:only-child th {\n",
       "        text-align: right;\n",
       "    }\n",
       "\n",
       "    .dataframe thead th {\n",
       "        text-align: left;\n",
       "    }\n",
       "\n",
       "    .dataframe tbody tr th {\n",
       "        vertical-align: top;\n",
       "    }\n",
       "</style>\n",
       "<table border=\"1\" class=\"dataframe\">\n",
       "  <thead>\n",
       "    <tr style=\"text-align: right;\">\n",
       "      <th></th>\n",
       "      <th>date</th>\n",
       "      <th>price</th>\n",
       "      <th>bedrooms</th>\n",
       "      <th>bathrooms</th>\n",
       "      <th>sqft_living</th>\n",
       "      <th>sqft_lot</th>\n",
       "      <th>floors</th>\n",
       "      <th>waterfront</th>\n",
       "      <th>view</th>\n",
       "      <th>condition</th>\n",
       "      <th>sqft_above</th>\n",
       "      <th>sqft_basement</th>\n",
       "      <th>yr_built</th>\n",
       "      <th>yr_renovated</th>\n",
       "      <th>street</th>\n",
       "      <th>city</th>\n",
       "      <th>statezip</th>\n",
       "      <th>country</th>\n",
       "    </tr>\n",
       "  </thead>\n",
       "  <tbody>\n",
       "    <tr>\n",
       "      <th>0</th>\n",
       "      <td>2014-05-02</td>\n",
       "      <td>313000</td>\n",
       "      <td>3</td>\n",
       "      <td>1.50</td>\n",
       "      <td>1340</td>\n",
       "      <td>7912</td>\n",
       "      <td>1.50</td>\n",
       "      <td>0</td>\n",
       "      <td>0</td>\n",
       "      <td>3</td>\n",
       "      <td>1340</td>\n",
       "      <td>0</td>\n",
       "      <td>1955</td>\n",
       "      <td>1111</td>\n",
       "      <td>18810 Densmore Ave N</td>\n",
       "      <td>Shoreline</td>\n",
       "      <td>WA 98133</td>\n",
       "      <td>USA</td>\n",
       "    </tr>\n",
       "    <tr>\n",
       "      <th>1</th>\n",
       "      <td>2014-05-02</td>\n",
       "      <td>2384000</td>\n",
       "      <td>5</td>\n",
       "      <td>2.50</td>\n",
       "      <td>3650</td>\n",
       "      <td>9050</td>\n",
       "      <td>2.00</td>\n",
       "      <td>0</td>\n",
       "      <td>4</td>\n",
       "      <td>5</td>\n",
       "      <td>3370</td>\n",
       "      <td>280</td>\n",
       "      <td>1921</td>\n",
       "      <td>1111</td>\n",
       "      <td>709 W Blaine St</td>\n",
       "      <td>Seattle</td>\n",
       "      <td>WA 98119</td>\n",
       "      <td>USA</td>\n",
       "    </tr>\n",
       "  </tbody>\n",
       "</table>\n",
       "</div>"
      ],
      "text/plain": [
       "        date    price  bedrooms  bathrooms  sqft_living  sqft_lot  floors  \\\n",
       "0 2014-05-02  313000   3        1.50        1340         7912     1.50      \n",
       "1 2014-05-02  2384000  5        2.50        3650         9050     2.00      \n",
       "\n",
       "   waterfront  view  condition  sqft_above  sqft_basement  yr_built  \\\n",
       "0  0           0     3          1340        0              1955       \n",
       "1  0           4     5          3370        280            1921       \n",
       "\n",
       "  yr_renovated                street       city  statezip country  \n",
       "0  1111         18810 Densmore Ave N  Shoreline  WA 98133  USA     \n",
       "1  1111         709 W Blaine St       Seattle    WA 98119  USA     "
      ]
     },
     "execution_count": 20,
     "metadata": {},
     "output_type": "execute_result"
    }
   ],
   "source": [
    "# We then need to change the number formatting in the CSV file, as it is using 'k' (thousand) and 'm' (million) suffixes to\n",
    "# shorten the representation of large numbers. We instead want to use the formatting present in the XML file, which represents\n",
    "# price purely in digits (i.e. it avoids letter suffixes), using the convPrice function constructed previously.\n",
    "df['price'] = df['price'].apply(convPrice)\n",
    "df.head(2)"
   ]
  },
  {
   "cell_type": "code",
   "execution_count": 21,
   "metadata": {},
   "outputs": [
    {
     "data": {
      "text/html": [
       "<div>\n",
       "<style>\n",
       "    .dataframe thead tr:only-child th {\n",
       "        text-align: right;\n",
       "    }\n",
       "\n",
       "    .dataframe thead th {\n",
       "        text-align: left;\n",
       "    }\n",
       "\n",
       "    .dataframe tbody tr th {\n",
       "        vertical-align: top;\n",
       "    }\n",
       "</style>\n",
       "<table border=\"1\" class=\"dataframe\">\n",
       "  <thead>\n",
       "    <tr style=\"text-align: right;\">\n",
       "      <th></th>\n",
       "      <th>price</th>\n",
       "      <th>soldDate</th>\n",
       "      <th>bedrooms</th>\n",
       "      <th>bathrooms</th>\n",
       "      <th>livingArea</th>\n",
       "      <th>lotArea</th>\n",
       "      <th>floors</th>\n",
       "      <th>waterfront</th>\n",
       "      <th>view</th>\n",
       "      <th>upperArea</th>\n",
       "      <th>basementArea</th>\n",
       "      <th>buildYear</th>\n",
       "      <th>renovateYear</th>\n",
       "      <th>street</th>\n",
       "      <th>city</th>\n",
       "      <th>statezip</th>\n",
       "      <th>country</th>\n",
       "    </tr>\n",
       "  </thead>\n",
       "  <tbody>\n",
       "    <tr>\n",
       "      <th>0</th>\n",
       "      <td>630000</td>\n",
       "      <td>2014-07-09</td>\n",
       "      <td>3</td>\n",
       "      <td>1.75</td>\n",
       "      <td>158.8641984</td>\n",
       "      <td>814.48095168</td>\n",
       "      <td>1.0</td>\n",
       "      <td>0</td>\n",
       "      <td>0</td>\n",
       "      <td>158.8641984</td>\n",
       "      <td>0</td>\n",
       "      <td>1986</td>\n",
       "      <td>1111</td>\n",
       "      <td>10515 115th Place Northeast</td>\n",
       "      <td>Kirkland</td>\n",
       "      <td>WA 98033</td>\n",
       "      <td>USA</td>\n",
       "    </tr>\n",
       "  </tbody>\n",
       "</table>\n",
       "</div>"
      ],
      "text/plain": [
       "    price    soldDate bedrooms bathrooms   livingArea       lotArea floors  \\\n",
       "0  630000  2014-07-09  3        1.75      158.8641984  814.48095168  1.0     \n",
       "\n",
       "  waterfront view    upperArea basementArea buildYear renovateYear  \\\n",
       "0  0          0    158.8641984  0            1986      1111          \n",
       "\n",
       "                        street      city  statezip country  \n",
       "0  10515 115th Place Northeast  Kirkland  WA 98033  USA     "
      ]
     },
     "metadata": {},
     "output_type": "display_data"
    },
    {
     "data": {
      "text/html": [
       "<div>\n",
       "<style>\n",
       "    .dataframe thead tr:only-child th {\n",
       "        text-align: right;\n",
       "    }\n",
       "\n",
       "    .dataframe thead th {\n",
       "        text-align: left;\n",
       "    }\n",
       "\n",
       "    .dataframe tbody tr th {\n",
       "        vertical-align: top;\n",
       "    }\n",
       "</style>\n",
       "<table border=\"1\" class=\"dataframe\">\n",
       "  <thead>\n",
       "    <tr style=\"text-align: right;\">\n",
       "      <th></th>\n",
       "      <th>price</th>\n",
       "      <th>soldDate</th>\n",
       "      <th>bedrooms</th>\n",
       "      <th>bathrooms</th>\n",
       "      <th>livingArea</th>\n",
       "      <th>lotArea</th>\n",
       "      <th>floors</th>\n",
       "      <th>waterfront</th>\n",
       "      <th>view</th>\n",
       "      <th>upperArea</th>\n",
       "      <th>basementArea</th>\n",
       "      <th>buildYear</th>\n",
       "      <th>renovateYear</th>\n",
       "      <th>street</th>\n",
       "      <th>city</th>\n",
       "      <th>statezip</th>\n",
       "      <th>country</th>\n",
       "    </tr>\n",
       "  </thead>\n",
       "  <tbody>\n",
       "    <tr>\n",
       "      <th>0</th>\n",
       "      <td>630000</td>\n",
       "      <td>2014-07-09</td>\n",
       "      <td>3</td>\n",
       "      <td>1.75</td>\n",
       "      <td>1709</td>\n",
       "      <td>8766</td>\n",
       "      <td>1.0</td>\n",
       "      <td>0</td>\n",
       "      <td>0</td>\n",
       "      <td>1709</td>\n",
       "      <td>0</td>\n",
       "      <td>1986</td>\n",
       "      <td>1111</td>\n",
       "      <td>10515 115th Place Northeast</td>\n",
       "      <td>Kirkland</td>\n",
       "      <td>WA 98033</td>\n",
       "      <td>USA</td>\n",
       "    </tr>\n",
       "  </tbody>\n",
       "</table>\n",
       "</div>"
      ],
      "text/plain": [
       "    price    soldDate bedrooms bathrooms  livingArea  lotArea floors  \\\n",
       "0  630000  2014-07-09  3        1.75      1709        8766     1.0     \n",
       "\n",
       "  waterfront view  upperArea  basementArea buildYear renovateYear  \\\n",
       "0  0          0    1709       0             1986      1111          \n",
       "\n",
       "                        street      city  statezip country  \n",
       "0  10515 115th Place Northeast  Kirkland  WA 98033  USA     "
      ]
     },
     "metadata": {},
     "output_type": "display_data"
    }
   ],
   "source": [
    "# We then look to discrepancies in area formatting; namely, the CSV file uses square feet while the XML file uses square meters.\n",
    "# convArea is used to convert the XML dataset to use square feet (as is the standardised format of the United States).\n",
    "# A head of 1 is called to provide comparative information for the process.\n",
    "display(df2.head(1))\n",
    "for column in ['livingArea', 'lotArea', 'upperArea', 'basementArea']:\n",
    "    df2[column] = df2[column].apply(convArea)\n",
    "display(df2.head(1))"
   ]
  },
  {
   "cell_type": "code",
   "execution_count": 22,
   "metadata": {},
   "outputs": [
    {
     "data": {
      "text/plain": [
       "['10515 115th Place Northeast',\n",
       " '1501 Northwest 90th Street',\n",
       " '537 North 70th Street',\n",
       " '12008 35th Avenue Northeast',\n",
       " '11807 Northeast 105th Court']"
      ]
     },
     "metadata": {},
     "output_type": "display_data"
    }
   ],
   "source": [
    "# We must also deal with formatting differences for location / address between the two dataframes. We can see that df uses\n",
    "# shortened street titles (i.e. St instead of Street) and directions (N instead of North). We will therefore edit the row entries\n",
    "# in df2 to match the shortened forms of df, using the convStreet function.\n",
    "\n",
    "# Displays the initial 5 first entries for street in df2, to provide an idea of what the formatting looks like.\n",
    "display(df2['street'].head(5).tolist())\n",
    "df2['street'] = df2['street'].apply(convStreet)"
   ]
  },
  {
   "cell_type": "code",
   "execution_count": 23,
   "metadata": {},
   "outputs": [
    {
     "data": {
      "text/plain": [
       "['18810 Densmore Ave N',\n",
       " '709 W Blaine St',\n",
       " '26206-26214 143rd Ave SE',\n",
       " '857 170th Pl NE',\n",
       " '9105 170th Ave NE']"
      ]
     },
     "execution_count": 23,
     "metadata": {},
     "output_type": "execute_result"
    }
   ],
   "source": [
    "# The first five rows of df's 'street' entries, to provide context\n",
    "df['street'].head(5).tolist()"
   ]
  },
  {
   "cell_type": "code",
   "execution_count": 24,
   "metadata": {},
   "outputs": [
    {
     "data": {
      "text/plain": [
       "['10515 115th Pl NE',\n",
       " '1501 NW 90th St',\n",
       " '537 N 70th St',\n",
       " '12008 35th Ave NE',\n",
       " '11807 NE 105th Ct']"
      ]
     },
     "execution_count": 24,
     "metadata": {},
     "output_type": "execute_result"
    }
   ],
   "source": [
    "# df2 after cleaning the street types and cardinal directions\n",
    "df2['street'].head(5).tolist()"
   ]
  },
  {
   "cell_type": "markdown",
   "metadata": {},
   "source": [
    "### 3.d Consistent order and datatype of columns\n",
    "\n",
    "We can see that the names and order of columns between the two dataframes are different; this section aims to remove this as an issue, so that we can easily join the two dataframes. We also ensure consistent datatypes for both dataframes for each column, using the formatting from 'df'."
   ]
  },
  {
   "cell_type": "code",
   "execution_count": 25,
   "metadata": {},
   "outputs": [
    {
     "name": "stdout",
     "output_type": "stream",
     "text": [
      "There are 18 columns in df, and 17 df2 columns.\n",
      "condition is a missing column\n"
     ]
    }
   ],
   "source": [
    "# A number of df2's columns are renamed to match the CSV file, prior to reordering.\n",
    "df2 = df2.rename(columns={'livingArea':'sqft_living','lotArea':'sqft_lot','upperArea':'sqft_above','basementArea':'sqft_basement',\n",
    "            'buildYear':'yr_built', 'renovateYear':'yr_renovated', 'soldDate':'date'})\n",
    "\n",
    "# Display the number of columns present in each dataframe.\n",
    "print \"There are\", len(df.columns), \"columns in df, and\", len(df2.columns), \"df2 columns.\"\n",
    "\n",
    "for i in df.columns.tolist():\n",
    "    if i not in df2.columns.tolist():\n",
    "        print i, \"is a missing column\""
   ]
  },
  {
   "cell_type": "code",
   "execution_count": 26,
   "metadata": {
    "collapsed": true
   },
   "outputs": [],
   "source": [
    "# We can see that there is one more column in df; this is the 'condition' column, which we will have to impute for df2.\n",
    "# For now, we can set the values to nan.\n",
    "df2['condition'] = np.nan"
   ]
  },
  {
   "cell_type": "code",
   "execution_count": 27,
   "metadata": {
    "collapsed": true
   },
   "outputs": [],
   "source": [
    "# We reorder df2 to follow the column order of df1. We check that there are no extra details in df2cols, and if not then df2\n",
    "# is reindexed. If there are extraneous details present, we print them to the terminal instead. We also force df['condition'] to\n",
    "# float64 datatype, so that it can take the NaN values present in condition, as well as df's yr_renovated to type int64 (the same\n",
    "# as yr_built). A number of string columns are changed from object type to string type.\n",
    "dfcols = df.columns.tolist()\n",
    "df2cols = [i for i in dfcols]\n",
    "for i in df2.columns.tolist():\n",
    "    if i not in dfcols:\n",
    "        df2cols.append(i)\n",
    "if dfcols == df2cols:\n",
    "    df2 = df2.reindex_axis(dfcols, axis=1)\n",
    "else:\n",
    "    print [i for i in df2cols if i not in dfcols]\n",
    "    \n",
    "df['condition'] = df['condition'].astype(float)\n",
    "df['yr_renovated'] = df['yr_renovated'].astype(np.int64)"
   ]
  },
  {
   "cell_type": "code",
   "execution_count": 28,
   "metadata": {
    "collapsed": true
   },
   "outputs": [],
   "source": [
    "# Zips the datatype of each column in df with its column name, and then uses this zip-list to change the type \n",
    "for col_type in zip(df.columns.tolist(), df.dtypes.tolist()):\n",
    "    df2[col_type[0]] = df2[col_type[0]].astype(col_type[1])"
   ]
  },
  {
   "cell_type": "markdown",
   "metadata": {},
   "source": [
    "\n",
    "## 4. Joining the datasets <a name=\"joining\"></a>\n",
    "[Return to table of contents](#contents)\n",
    "\n",
    "We now begin joinging the datasets into one dataframe, __df_final__, which will then have the missing condition values filled, duplicates removed, and then to the final stage, normalisation."
   ]
  },
  {
   "cell_type": "code",
   "execution_count": 29,
   "metadata": {},
   "outputs": [
    {
     "name": "stdout",
     "output_type": "stream",
     "text": [
      "The number of rows and columns of df_final is (5030, 18)\n"
     ]
    }
   ],
   "source": [
    "# Join the two datasets\n",
    "df_final = pd.concat([df, df2])\n",
    "# Display the dimensions of the new dataframe\n",
    "print \"The number of rows and columns of df_final is\", df_final.shape"
   ]
  },
  {
   "cell_type": "markdown",
   "metadata": {},
   "source": [
    "### 4a. Removing duplicates\n",
    "We remove duplicates as part of the final stage of cleaning. Once this is done, we can impute values to fill the null values for condition from df2.\n",
    "\n",
    "We look for partial duplicates on _property_ and _date_; property as we are looking to identify duplicate properties, and date as we do not want to remove duplicates where the property may have been listed as sold twice in the dataset. This may occur where a sale was not completed, or where it was 'flipped' in a short period of time."
   ]
  },
  {
   "cell_type": "code",
   "execution_count": 30,
   "metadata": {},
   "outputs": [
    {
     "data": {
      "text/html": [
       "<div>\n",
       "<style>\n",
       "    .dataframe thead tr:only-child th {\n",
       "        text-align: right;\n",
       "    }\n",
       "\n",
       "    .dataframe thead th {\n",
       "        text-align: left;\n",
       "    }\n",
       "\n",
       "    .dataframe tbody tr th {\n",
       "        vertical-align: top;\n",
       "    }\n",
       "</style>\n",
       "<table border=\"1\" class=\"dataframe\">\n",
       "  <thead>\n",
       "    <tr style=\"text-align: right;\">\n",
       "      <th></th>\n",
       "      <th>date</th>\n",
       "      <th>price</th>\n",
       "      <th>city</th>\n",
       "      <th>street</th>\n",
       "    </tr>\n",
       "  </thead>\n",
       "  <tbody>\n",
       "    <tr>\n",
       "      <th>20</th>\n",
       "      <td>2014-07-09</td>\n",
       "      <td>440000</td>\n",
       "      <td>Seattle</td>\n",
       "      <td>1018 NE 96th St</td>\n",
       "    </tr>\n",
       "    <tr>\n",
       "      <th>4568</th>\n",
       "      <td>2014-07-09</td>\n",
       "      <td>440000</td>\n",
       "      <td>Seattle</td>\n",
       "      <td>1018 NE 96th St</td>\n",
       "    </tr>\n",
       "    <tr>\n",
       "      <th>9</th>\n",
       "      <td>2014-07-09</td>\n",
       "      <td>359000</td>\n",
       "      <td>Seattle</td>\n",
       "      <td>10304 Interlake Ave N</td>\n",
       "    </tr>\n",
       "    <tr>\n",
       "      <th>4533</th>\n",
       "      <td>2014-07-09</td>\n",
       "      <td>359000</td>\n",
       "      <td>Seattle</td>\n",
       "      <td>10304 Interlake Ave N</td>\n",
       "    </tr>\n",
       "    <tr>\n",
       "      <th>4505</th>\n",
       "      <td>2014-07-09</td>\n",
       "      <td>630000</td>\n",
       "      <td>Kirkland</td>\n",
       "      <td>10515 115th Pl NE</td>\n",
       "    </tr>\n",
       "    <tr>\n",
       "      <th>0</th>\n",
       "      <td>2014-07-09</td>\n",
       "      <td>630000</td>\n",
       "      <td>Kirkland</td>\n",
       "      <td>10515 115th Pl NE</td>\n",
       "    </tr>\n",
       "    <tr>\n",
       "      <th>4521</th>\n",
       "      <td>2014-07-09</td>\n",
       "      <td>379000</td>\n",
       "      <td>Kirkland</td>\n",
       "      <td>11807 NE 105th Ct</td>\n",
       "    </tr>\n",
       "    <tr>\n",
       "      <th>4</th>\n",
       "      <td>2014-07-09</td>\n",
       "      <td>379000</td>\n",
       "      <td>Kirkland</td>\n",
       "      <td>11807 NE 105th Ct</td>\n",
       "    </tr>\n",
       "    <tr>\n",
       "      <th>3</th>\n",
       "      <td>2014-07-09</td>\n",
       "      <td>335500</td>\n",
       "      <td>Seattle</td>\n",
       "      <td>12008 35th Ave NE</td>\n",
       "    </tr>\n",
       "    <tr>\n",
       "      <th>4517</th>\n",
       "      <td>2014-07-09</td>\n",
       "      <td>335500</td>\n",
       "      <td>Seattle</td>\n",
       "      <td>12008 35th Ave NE</td>\n",
       "    </tr>\n",
       "  </tbody>\n",
       "</table>\n",
       "</div>"
      ],
      "text/plain": [
       "           date   price      city                 street\n",
       "20   2014-07-09  440000  Seattle   1018 NE 96th St      \n",
       "4568 2014-07-09  440000  Seattle   1018 NE 96th St      \n",
       "9    2014-07-09  359000  Seattle   10304 Interlake Ave N\n",
       "4533 2014-07-09  359000  Seattle   10304 Interlake Ave N\n",
       "4505 2014-07-09  630000  Kirkland  10515 115th Pl NE    \n",
       "0    2014-07-09  630000  Kirkland  10515 115th Pl NE    \n",
       "4521 2014-07-09  379000  Kirkland  11807 NE 105th Ct    \n",
       "4    2014-07-09  379000  Kirkland  11807 NE 105th Ct    \n",
       "3    2014-07-09  335500  Seattle   12008 35th Ave NE    \n",
       "4517 2014-07-09  335500  Seattle   12008 35th Ave NE    "
      ]
     },
     "metadata": {},
     "output_type": "display_data"
    },
    {
     "name": "stdout",
     "output_type": "stream",
     "text": [
      "There are 62 duplicates present in the joined dataset, i.e. 31 original properties.\n"
     ]
    }
   ],
   "source": [
    "duplicate_df = df_final[df_final.duplicated(subset =('street', 'date', 'city'), keep=False)]\n",
    "display(duplicate_df[['date', 'price', 'city', 'street']].sort_values('street').head(10))\n",
    "print \"There are\", len(duplicate_df), \"duplicates present in the joined dataset, i.e.\", (len(duplicate_df)/2), \"original properties.\""
   ]
  },
  {
   "cell_type": "code",
   "execution_count": 31,
   "metadata": {},
   "outputs": [
    {
     "data": {
      "text/html": [
       "<div>\n",
       "<style>\n",
       "    .dataframe thead tr:only-child th {\n",
       "        text-align: right;\n",
       "    }\n",
       "\n",
       "    .dataframe thead th {\n",
       "        text-align: left;\n",
       "    }\n",
       "\n",
       "    .dataframe tbody tr th {\n",
       "        vertical-align: top;\n",
       "    }\n",
       "</style>\n",
       "<table border=\"1\" class=\"dataframe\">\n",
       "  <thead>\n",
       "    <tr style=\"text-align: right;\">\n",
       "      <th></th>\n",
       "      <th>date</th>\n",
       "      <th>price</th>\n",
       "      <th>bedrooms</th>\n",
       "      <th>bathrooms</th>\n",
       "      <th>sqft_living</th>\n",
       "      <th>sqft_lot</th>\n",
       "      <th>floors</th>\n",
       "      <th>waterfront</th>\n",
       "      <th>view</th>\n",
       "      <th>condition</th>\n",
       "      <th>sqft_above</th>\n",
       "      <th>sqft_basement</th>\n",
       "      <th>yr_built</th>\n",
       "      <th>yr_renovated</th>\n",
       "      <th>street</th>\n",
       "      <th>city</th>\n",
       "      <th>statezip</th>\n",
       "      <th>country</th>\n",
       "    </tr>\n",
       "  </thead>\n",
       "  <tbody>\n",
       "  </tbody>\n",
       "</table>\n",
       "</div>"
      ],
      "text/plain": [
       "Empty DataFrame\n",
       "Columns: [date, price, bedrooms, bathrooms, sqft_living, sqft_lot, floors, waterfront, view, condition, sqft_above, sqft_basement, yr_built, yr_renovated, street, city, statezip, country]\n",
       "Index: []"
      ]
     },
     "metadata": {},
     "output_type": "display_data"
    }
   ],
   "source": [
    "# We then remove the duplicates, making sure to keep the original property. A second duplicated check is run to show that no\n",
    "# duplicates are present.\n",
    "duplicate_df.drop_duplicates(subset =('street', 'date', 'city'), keep='first', inplace=True)\n",
    "display(duplicate_df[duplicate_df.duplicated(subset=('street', 'date', 'city'))])"
   ]
  },
  {
   "cell_type": "markdown",
   "metadata": {},
   "source": [
    "### 4b. Filling missing condition values\n",
    "\n",
    "We will fill the missing condition values by finding a mean condition for three subsets of price. While the assessment does not specifically call for umputation of missing values, it is best if we find something to fill the nan values. Mean was chosen as a quick way to perform this, and to provide a hopefully more correct value it has been decided to split off 'price' into three subsets, and then derive a mean for these three strata with which the condition values will be filled from."
   ]
  },
  {
   "cell_type": "code",
   "execution_count": 32,
   "metadata": {
    "collapsed": true
   },
   "outputs": [],
   "source": [
    "condition_means = strataMean(df_final, 'price', 'condition', 3)"
   ]
  },
  {
   "cell_type": "code",
   "execution_count": 33,
   "metadata": {},
   "outputs": [
    {
     "name": "stdout",
     "output_type": "stream",
     "text": [
      "The mean condition for a property within the range $78000 and $376000 is 3.41\n",
      "The mean condition for a property within the range $377500 and $585000 is 3.43\n",
      "The mean condition for a property within the range $585000 and $7062500 is 3.52\n"
     ]
    }
   ],
   "source": [
    "# Creates a store for the list values, and also displays the mean values rounded to two decimal points along with the price\n",
    "# ranges that these means are constructed from.\n",
    "means = []\n",
    "for strata in condition_means:\n",
    "    for key, value in strata.iteritems():\n",
    "        if key == 'mean':\n",
    "            means.append(round(value, 2))\n",
    "            print \"The mean condition for a property within the range $\"+str(strata['minimum'])+\" and $\"+str(strata['maximum'])+\" is\", (round(value, 2))"
   ]
  },
  {
   "cell_type": "code",
   "execution_count": 34,
   "metadata": {
    "collapsed": true
   },
   "outputs": [],
   "source": [
    "# Now we replace the missing condition values, using the pricing boundaries set above. We can see that a conditional replace for\n",
    "# properties with a price under $376,000, $585,000, and $7,062,500 \n",
    "\n",
    "repl1 = (df_final['price'] > 0) & (df_final[\"price\"] <= 376000) & (np.isnan(df_final[\"condition\"]))\n",
    "repl2 = (df_final['price'] > 376000) & (df_final[\"price\"] <= 585000) & (np.isnan(df_final[\"condition\"]))\n",
    "repl3 = (df_final['price'] > 585000) & (np.isnan(df_final[\"condition\"]))\n",
    "replacements = (repl1 ,repl2 ,repl3)\n",
    "\n",
    "# Loop through the replacement conditional sets, filling missing condition entries with the respective mean values.\n",
    "count = 0\n",
    "for repl in replacements:\n",
    "    df_final.loc[repl, 'condition'] = means[count]\n",
    "    count += 1"
   ]
  },
  {
   "cell_type": "markdown",
   "metadata": {},
   "source": [
    "### 4c. A series of logic checks\n",
    "\n",
    "This section checks to make sure that there are no occurences where, for example, the building was constructed after it's most recent renovation, according to the records in df_final.\n",
    "\n",
    "These checks return no unusual properties, and so we proceed on."
   ]
  },
  {
   "cell_type": "code",
   "execution_count": 35,
   "metadata": {},
   "outputs": [
    {
     "data": {
      "text/html": [
       "<div>\n",
       "<style>\n",
       "    .dataframe thead tr:only-child th {\n",
       "        text-align: right;\n",
       "    }\n",
       "\n",
       "    .dataframe thead th {\n",
       "        text-align: left;\n",
       "    }\n",
       "\n",
       "    .dataframe tbody tr th {\n",
       "        vertical-align: top;\n",
       "    }\n",
       "</style>\n",
       "<table border=\"1\" class=\"dataframe\">\n",
       "  <thead>\n",
       "    <tr style=\"text-align: right;\">\n",
       "      <th></th>\n",
       "      <th>date</th>\n",
       "      <th>price</th>\n",
       "      <th>bedrooms</th>\n",
       "      <th>bathrooms</th>\n",
       "      <th>sqft_living</th>\n",
       "      <th>sqft_lot</th>\n",
       "      <th>floors</th>\n",
       "      <th>waterfront</th>\n",
       "      <th>view</th>\n",
       "      <th>condition</th>\n",
       "      <th>sqft_above</th>\n",
       "      <th>sqft_basement</th>\n",
       "      <th>yr_built</th>\n",
       "      <th>yr_renovated</th>\n",
       "      <th>street</th>\n",
       "      <th>city</th>\n",
       "      <th>statezip</th>\n",
       "      <th>country</th>\n",
       "    </tr>\n",
       "  </thead>\n",
       "  <tbody>\n",
       "  </tbody>\n",
       "</table>\n",
       "</div>"
      ],
      "text/plain": [
       "Empty DataFrame\n",
       "Columns: [date, price, bedrooms, bathrooms, sqft_living, sqft_lot, floors, waterfront, view, condition, sqft_above, sqft_basement, yr_built, yr_renovated, street, city, statezip, country]\n",
       "Index: []"
      ]
     },
     "metadata": {},
     "output_type": "display_data"
    },
    {
     "data": {
      "text/html": [
       "<div>\n",
       "<style>\n",
       "    .dataframe thead tr:only-child th {\n",
       "        text-align: right;\n",
       "    }\n",
       "\n",
       "    .dataframe thead th {\n",
       "        text-align: left;\n",
       "    }\n",
       "\n",
       "    .dataframe tbody tr th {\n",
       "        vertical-align: top;\n",
       "    }\n",
       "</style>\n",
       "<table border=\"1\" class=\"dataframe\">\n",
       "  <thead>\n",
       "    <tr style=\"text-align: right;\">\n",
       "      <th></th>\n",
       "      <th>date</th>\n",
       "      <th>price</th>\n",
       "      <th>bedrooms</th>\n",
       "      <th>bathrooms</th>\n",
       "      <th>sqft_living</th>\n",
       "      <th>sqft_lot</th>\n",
       "      <th>floors</th>\n",
       "      <th>waterfront</th>\n",
       "      <th>view</th>\n",
       "      <th>condition</th>\n",
       "      <th>sqft_above</th>\n",
       "      <th>sqft_basement</th>\n",
       "      <th>yr_built</th>\n",
       "      <th>yr_renovated</th>\n",
       "      <th>street</th>\n",
       "      <th>city</th>\n",
       "      <th>statezip</th>\n",
       "      <th>country</th>\n",
       "    </tr>\n",
       "  </thead>\n",
       "  <tbody>\n",
       "  </tbody>\n",
       "</table>\n",
       "</div>"
      ],
      "text/plain": [
       "Empty DataFrame\n",
       "Columns: [date, price, bedrooms, bathrooms, sqft_living, sqft_lot, floors, waterfront, view, condition, sqft_above, sqft_basement, yr_built, yr_renovated, street, city, statezip, country]\n",
       "Index: []"
      ]
     },
     "metadata": {},
     "output_type": "display_data"
    }
   ],
   "source": [
    "# Check to make sure that all properties\n",
    "display(df_final.loc[(df_final.yr_built > df_final.yr_renovated) & (df_final.yr_renovated > 1111)])\n",
    "\n",
    "# Check to make sure that the values in square foot living is equal to square foot above and square foot basement.\n",
    "display(df.loc[df.sqft_living != df[['sqft_above', 'sqft_basement']].sum(axis=1)])"
   ]
  },
  {
   "cell_type": "markdown",
   "metadata": {},
   "source": [
    "### 4d. A discussion on the final schema\n",
    "\n",
    "As seen across the body of code so far, a number of changes have been made to df_final's component dataframes. These changes are justified as follows;\n",
    "* Dropping 'date' from df2: This was dropped in favor of keeping & renaming soldDate. This decision was made under the assumption that 'date' referred to the date that the property entry was put into the XML file. Given this assumption, it is clear that soldDate carries a lot more pertinent information (i.e. what day the property was sold, from which weather, major events nearby, etc can be construed) and so was kept. It is also assumed that 'date' in df is also referring to the sale date.\n",
    "* Imputing condition for df2 using mean: This was chosen as filling the missing values is important for analysis, but it was felt that a full regression (linear or otherwise) falls beyond the scope of this assignment. As such, a quick yet effective mean imputation figure was used, with statification of price used as a grouping method to provide what is hoped to be somewhat more correct imputed figures.\n",
    "* Assumption 1: There is an underlying assumption that the data in the initial CSV file (df) is correct and cleaned data.\n",
    "* Assumption 2: Non-residential properties are expected in this dataframe, hence the appearance of the buildings identified earlier (the church, firestation and gym) as well as any properties that may have 0 beds and/or 0 bathrooms (i.e. they may be offices)"
   ]
  },
  {
   "cell_type": "markdown",
   "metadata": {},
   "source": [
    "## 5. Normalisation  <a name=\"normalisation\"></a>\n",
    "[Return to table of contents](#contents)\n",
    "\n",
    "As the final stage of this assessment, we must apply z-score and min-max normalizations, and log transformation, to the prices. Following this, we will analyze how they affect the distribution of the data.\n",
    "\n",
    "### 5.a Generate price normalisations"
   ]
  },
  {
   "cell_type": "code",
   "execution_count": 36,
   "metadata": {
    "collapsed": true
   },
   "outputs": [],
   "source": [
    "# Note: this section will return a number of deprecation warnings (Python 2.7 and Pandas don't mix). If something isn't working,\n",
    "# this is probably where the problem is. Change the warnings.filterwarnings argument to \"default\" to check this.\n",
    "\n",
    "# Creates a z-score normalisation value in the df_final dataframe\n",
    "z_score_normalise = preprocessing.StandardScaler().fit(df_final['price'])\n",
    "z_score = z_score_normalise.transform(df_final['price'].values.reshape(-1, 1))\n",
    "df_final['z_score'] = z_score\n",
    "\n",
    "# Creates a min-max normalisation value in the df_final dataframe\n",
    "min_max_normalise = preprocessing.MinMaxScaler().fit(df_final['price'])\n",
    "min_max = min_max_normalise.transform(df_final['price'].values.reshape(-1, 1))\n",
    "df_final['min_max'] = min_max\n",
    "\n",
    "# Creates a log transformation value in the df_final dataframe\n",
    "log_transform = FunctionTransformer(np.log1p)\n",
    "log_transformation = log_transform.transform(df_final.price.values.reshape(-1, 1))\n",
    "df_final['log_price'] = log_transformation"
   ]
  },
  {
   "cell_type": "markdown",
   "metadata": {},
   "source": [
    "### 5.b Analyse the price normalisation figures"
   ]
  },
  {
   "cell_type": "code",
   "execution_count": 37,
   "metadata": {},
   "outputs": [
    {
     "data": {
      "text/html": [
       "<div>\n",
       "<style>\n",
       "    .dataframe thead tr:only-child th {\n",
       "        text-align: right;\n",
       "    }\n",
       "\n",
       "    .dataframe thead th {\n",
       "        text-align: left;\n",
       "    }\n",
       "\n",
       "    .dataframe tbody tr th {\n",
       "        vertical-align: top;\n",
       "    }\n",
       "</style>\n",
       "<table border=\"1\" class=\"dataframe\">\n",
       "  <thead>\n",
       "    <tr style=\"text-align: right;\">\n",
       "      <th></th>\n",
       "      <th>price</th>\n",
       "      <th>z_score</th>\n",
       "      <th>min_max</th>\n",
       "      <th>log_price</th>\n",
       "    </tr>\n",
       "  </thead>\n",
       "  <tbody>\n",
       "    <tr>\n",
       "      <th>count</th>\n",
       "      <td>5030.00</td>\n",
       "      <td>5030.00</td>\n",
       "      <td>5030.00</td>\n",
       "      <td>5030.00</td>\n",
       "    </tr>\n",
       "    <tr>\n",
       "      <th>mean</th>\n",
       "      <td>557417.00</td>\n",
       "      <td>0.00</td>\n",
       "      <td>0.00</td>\n",
       "      <td>13.00</td>\n",
       "    </tr>\n",
       "    <tr>\n",
       "      <th>std</th>\n",
       "      <td>374251.00</td>\n",
       "      <td>1.00</td>\n",
       "      <td>0.00</td>\n",
       "      <td>1.00</td>\n",
       "    </tr>\n",
       "    <tr>\n",
       "      <th>min</th>\n",
       "      <td>78000.00</td>\n",
       "      <td>-1.00</td>\n",
       "      <td>0.00</td>\n",
       "      <td>11.00</td>\n",
       "    </tr>\n",
       "    <tr>\n",
       "      <th>25%</th>\n",
       "      <td>330000.00</td>\n",
       "      <td>-1.00</td>\n",
       "      <td>0.00</td>\n",
       "      <td>13.00</td>\n",
       "    </tr>\n",
       "    <tr>\n",
       "      <th>50%</th>\n",
       "      <td>470500.00</td>\n",
       "      <td>0.00</td>\n",
       "      <td>0.00</td>\n",
       "      <td>13.00</td>\n",
       "    </tr>\n",
       "    <tr>\n",
       "      <th>75%</th>\n",
       "      <td>660875.00</td>\n",
       "      <td>0.00</td>\n",
       "      <td>0.00</td>\n",
       "      <td>13.00</td>\n",
       "    </tr>\n",
       "    <tr>\n",
       "      <th>max</th>\n",
       "      <td>7062500.00</td>\n",
       "      <td>17.00</td>\n",
       "      <td>1.00</td>\n",
       "      <td>16.00</td>\n",
       "    </tr>\n",
       "  </tbody>\n",
       "</table>\n",
       "</div>"
      ],
      "text/plain": [
       "           price  z_score  min_max  log_price\n",
       "count 5030.00    5030.00  5030.00  5030.00   \n",
       "mean  557417.00  0.00     0.00     13.00     \n",
       "std   374251.00  1.00     0.00     1.00      \n",
       "min   78000.00   -1.00    0.00     11.00     \n",
       "25%   330000.00  -1.00    0.00     13.00     \n",
       "50%   470500.00  0.00     0.00     13.00     \n",
       "75%   660875.00  0.00     0.00     13.00     \n",
       "max   7062500.00 17.00    1.00     16.00     "
      ]
     },
     "execution_count": 37,
     "metadata": {},
     "output_type": "execute_result"
    }
   ],
   "source": [
    "# We call a describe on df_final's price, z-score normalisation of price, min-max normalisation of price, and log transformation\n",
    "# of price. These figures are rounded off to .00 decimal places (floats rounded to 0 decimal places will show as x.00).\n",
    "df_final[['price','z_score','min_max','log_price']].describe().round(decimals=0)"
   ]
  },
  {
   "cell_type": "code",
   "execution_count": 38,
   "metadata": {},
   "outputs": [
    {
     "data": {
      "text/plain": [
       "<matplotlib.axes._subplots.AxesSubplot at 0xeb06e48>"
      ]
     },
     "execution_count": 38,
     "metadata": {},
     "output_type": "execute_result"
    },
    {
     "data": {
      "image/png": "[encoded data removed]",
      "text/plain": [
       "<matplotlib.figure.Figure at 0xeafa128>"
      ]
     },
     "metadata": {},
     "output_type": "display_data"
    }
   ],
   "source": [
    "# We first call the original price column into a histogram, to show the initial distribution. We can see that price has a\n",
    "# positive skew with an extremely long tail going off to the right.\n",
    "df_final['price'].hist(bins=250, figsize=(16,5))"
   ]
  },
  {
   "cell_type": "markdown",
   "metadata": {},
   "source": [
    "### 5.c Plotting the data normalisation"
   ]
  },
  {
   "cell_type": "code",
   "execution_count": 39,
   "metadata": {},
   "outputs": [
    {
     "data": {
      "text/plain": [
       "<matplotlib.text.Text at 0xd26b160>"
      ]
     },
     "execution_count": 39,
     "metadata": {},
     "output_type": "execute_result"
    },
    {
     "data": {
      "image/png": "[encoded data removed]",
      "text/plain": [
       "<matplotlib.figure.Figure at 0xece9e10>"
      ]
     },
     "metadata": {},
     "output_type": "display_data"
    },
    {
     "data": {
      "image/png": "[encoded data removed]",
      "text/plain": [
       "<matplotlib.figure.Figure at 0xe85ca20>"
      ]
     },
     "metadata": {},
     "output_type": "display_data"
    }
   ],
   "source": [
    "# Declaring consistent values for plotting\n",
    "from matplotlib import rcParams\n",
    "rcParams['axes.titlepad'] = 10\n",
    "rcParams['xtick.labelsize'] = 14\n",
    "rcParams['ytick.labelsize'] = 14\n",
    "\n",
    "bars = 50\n",
    "title = 38\n",
    "sub_title = 18\n",
    "hist1 = df_final['price']\n",
    "hist2 = df_final['z_score']\n",
    "hist3 = df_final['min_max']\n",
    "hist4 = df_final['log_price']\n",
    "\n",
    "######################################################################################################\n",
    "# Generate the first 2 subplots, and format the meta-plot that contains the two sub-plots.\n",
    "f, axarr = plt.subplots(1, 2)\n",
    "f.set_size_inches(18, 4)\n",
    "plt.suptitle('Normalisation Visualisation', y=1.2, size=title)\n",
    "# Fill the first set of subplots\n",
    "axarr[0].hist(hist1, bars)\n",
    "axarr[1].hist(hist2, bars)\n",
    "# Format these subplots\n",
    "axarr[0].set_title('Price', size=sub_title)\n",
    "axarr[1].set_title('Z-Score Normalisation of Price', size=sub_title)\n",
    "plt.setp(axarr[0].get_xticklabels(), rotation=45)\n",
    "\n",
    "######################################################################################################\n",
    "# Generate the second 2 subplots, and format the meta-plot that contains the two sub-plots.\n",
    "f, axarr = plt.subplots(1, 2)\n",
    "f.set_size_inches(18, 4)\n",
    "# Fill the second set of subplots\n",
    "axarr[0].hist(hist3, bars)\n",
    "axarr[1].hist(hist4, bars)\n",
    "# Subplot formatting\n",
    "axarr[0].set_title('Min-Max Normalisation of Price', size=sub_title)\n",
    "axarr[1].set_title('Log Transformation of Price', size=sub_title)"
   ]
  },
  {
   "cell_type": "markdown",
   "metadata": {},
   "source": [
    "From these plots and the table displayed previously, we can see that the Min-Max and z-score normalisations of price do not differ from the shape of the original price category; they have the same positive skew with a long right tail that price has. However, the x-values of both normalisations is significantly different compared to the parent price category. The z-score normalised price sees its standard deviation changed to one and its mean to zero, with a range of -1 to 17. Likewise the min-max normalisation sees its standard deviation changed to 0, its mean to zero, and its range to 0 to 1.\n",
    "\n",
    "The log transformation, however, represents a significant change from the original 'price' category. The shape of the data has changed from the positive skew of price to what appears to be __approaching__ a normal - or _Gaussian_ - distribution. We note that it is __approaching__ rather than __is__ to note the fact that we cannot state for certain that it is indeed a normal distribution.\n",
    "\n",
    "This change in the distribution from price to log price is important as Gaussian distributions are used in statistics as, in one of its more common forms, the central limit theorem states that an average of samples of observations of random variables will approach a normal distribution as the number of samples approaches infinity.\n",
    "\n",
    "### Writing the final dataframe to CSV"
   ]
  },
  {
   "cell_type": "code",
   "execution_count": 40,
   "metadata": {
    "collapsed": true
   },
   "outputs": [],
   "source": [
    "df_final.to_csv(\"Farrell_28629396_ass3.csv\", index=False)"
   ]
  }
 ],
 "metadata": {
  "kernelspec": {
   "display_name": "Python 3",
   "language": "python",
   "name": "python3"
  },
  "language_info": {
   "codemirror_mode": {
    "name": "ipython",
    "version": 3
   },
   "file_extension": ".py",
   "mimetype": "text/x-python",
   "name": "python",
   "nbconvert_exporter": "python",
   "pygments_lexer": "ipython3",
   "version": "3.6.1"
  }
 },
 "nbformat": 4,
 "nbformat_minor": 2
}
